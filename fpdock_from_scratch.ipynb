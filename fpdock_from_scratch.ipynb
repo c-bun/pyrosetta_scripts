{
 "cells": [
  {
   "cell_type": "markdown",
   "metadata": {},
   "source": [
    "After playing around with the Lubin scripts, try just writing something with fpdock and see what calling the functions actually does on their own."
   ]
  },
  {
   "cell_type": "code",
   "execution_count": 2,
   "metadata": {},
   "outputs": [],
   "source": [
    "from pyrosetta import *\n",
    "from pyrosetta.rosetta.protocols.flexpep_docking import FlexPepDockingProtocol\n",
    "from pyrosetta.rosetta.protocols.flexpep_docking import FlexPepDockingFlags"
   ]
  },
  {
   "cell_type": "code",
   "execution_count": 3,
   "metadata": {},
   "outputs": [
    {
     "name": "stdout",
     "output_type": "stream",
     "text": [
      "PyRosetta-4 2020 [Rosetta PyRosetta4.conda.linux.CentOS.python37.Release 2020.10+release.46415fa3e9decb8b6e91a4e065c15543eb27a461 2020-03-05T09:09:24] retrieved from: http://www.pyrosetta.org\n",
      "(C) Copyright Rosetta Commons Member Institutions. Created in JHU by Sergey Lyskov and PyRosetta Team.\n",
      "\u001b[0mcore.init: {0} \u001b[0mChecking for fconfig files in pwd and ./rosetta/flags\n",
      "\u001b[0mcore.init: {0} \u001b[0mRosetta version: PyRosetta4.conda.linux.CentOS.python37.Release r248 2020.10+release.46415fa 46415fa3e9decb8b6e91a4e065c15543eb27a461 http://www.pyrosetta.org 2020-03-05T09:09:24\n",
      "\u001b[0mcore.init: {0} \u001b[0mcommand: PyRosetta -pep_refine -ex1 -ex2aro -use_input_sc -ignore_unrecognized_res -database /home/colin/anaconda3/envs/pyrosetta/lib/python3.7/site-packages/pyrosetta/database\n",
      "\u001b[0mbasic.random.init_random_generator: {0} \u001b[0m'RNG device' seed mode, using '/dev/urandom', seed=772599596 seed_offset=0 real_seed=772599596 thread_index=0\n",
      "\u001b[0mbasic.random.init_random_generator: {0} \u001b[0mRandomGenerator:init: Normal mode, seed=772599596 RG_type=mt19937\n"
     ]
    }
   ],
   "source": [
    "#opts = \"-s start.pdb -native ref.pdb -rbMCM -torsionsMCM -ex1 -ex2aro -use_input_sc -scorefile score.sc -ignore_unrecognized_res\"\n",
    "#opts = \"-flexpep_prepack -pep_refine -ex1 -ex2aro -use_input_sc -ignore_unrecognized_res\"\n",
    "opts = \"-pep_refine -ex1 -ex2aro -use_input_sc -ignore_unrecognized_res\"\n",
    "init(opts)"
   ]
  },
  {
   "cell_type": "code",
   "execution_count": 4,
   "metadata": {},
   "outputs": [
    {
     "name": "stdout",
     "output_type": "stream",
     "text": [
      "\u001b[0mcore.chemical.GlobalResidueTypeSet: {0} \u001b[0mFinished initializing fa_standard residue type set.  Created 980 residue types\n",
      "\u001b[0mcore.chemical.GlobalResidueTypeSet: {0} \u001b[0mTotal time to initialize 0.876883 seconds.\n",
      "\u001b[0mcore.import_pose.import_pose: {0} \u001b[0mFile 'native_test.pdb' automatically determined to be of type PDB\n",
      "\u001b[0mcore.conformation.Conformation: {0} \u001b[0m\u001b[1m[ WARNING ]\u001b[0m missing heavyatom:  CD  on residue GLU 24\n",
      "\u001b[0mcore.conformation.Conformation: {0} \u001b[0m\u001b[1m[ WARNING ]\u001b[0m missing heavyatom:  OE1 on residue GLU 24\n",
      "\u001b[0mcore.conformation.Conformation: {0} \u001b[0m\u001b[1m[ WARNING ]\u001b[0m missing heavyatom:  OE2 on residue GLU 24\n",
      "\u001b[0mcore.conformation.Conformation: {0} \u001b[0m\u001b[1m[ WARNING ]\u001b[0m missing heavyatom:  CG  on residue GLN 73\n",
      "\u001b[0mcore.conformation.Conformation: {0} \u001b[0m\u001b[1m[ WARNING ]\u001b[0m missing heavyatom:  CD  on residue GLN 73\n",
      "\u001b[0mcore.conformation.Conformation: {0} \u001b[0m\u001b[1m[ WARNING ]\u001b[0m missing heavyatom:  OE1 on residue GLN 73\n",
      "\u001b[0mcore.conformation.Conformation: {0} \u001b[0m\u001b[1m[ WARNING ]\u001b[0m missing heavyatom:  NE2 on residue GLN 73\n",
      "\u001b[0mcore.conformation.Conformation: {0} \u001b[0m\u001b[1m[ WARNING ]\u001b[0m missing heavyatom:  CE  on residue LYS 76\n",
      "\u001b[0mcore.conformation.Conformation: {0} \u001b[0m\u001b[1m[ WARNING ]\u001b[0m missing heavyatom:  NZ  on residue LYS 76\n",
      "\u001b[0mcore.conformation.Conformation: {0} \u001b[0m\u001b[1m[ WARNING ]\u001b[0m missing heavyatom:  CG  on residue LYS 124\n",
      "\u001b[0mcore.conformation.Conformation: {0} \u001b[0m\u001b[1m[ WARNING ]\u001b[0m missing heavyatom:  CD  on residue LYS 124\n",
      "\u001b[0mcore.conformation.Conformation: {0} \u001b[0m\u001b[1m[ WARNING ]\u001b[0m missing heavyatom:  CE  on residue LYS 124\n",
      "\u001b[0mcore.conformation.Conformation: {0} \u001b[0m\u001b[1m[ WARNING ]\u001b[0m missing heavyatom:  NZ  on residue LYS 124\n",
      "\u001b[0mcore.conformation.Conformation: {0} \u001b[0m\u001b[1m[ WARNING ]\u001b[0m missing heavyatom:  OXT on residue ASN:CtermProteinFull 157\n",
      "\u001b[0mcore.pack.pack_missing_sidechains: {0} \u001b[0mpacking residue number 24 because of missing atom number 7 atom name  CD\n",
      "\u001b[0mcore.pack.pack_missing_sidechains: {0} \u001b[0mpacking residue number 73 because of missing atom number 6 atom name  CG\n",
      "\u001b[0mcore.pack.pack_missing_sidechains: {0} \u001b[0mpacking residue number 76 because of missing atom number 8 atom name  CE\n",
      "\u001b[0mcore.pack.pack_missing_sidechains: {0} \u001b[0mpacking residue number 124 because of missing atom number 6 atom name  CG\n",
      "\u001b[0mcore.pack.task: {0} \u001b[0mPacker task: initialize from command line()\n",
      "\u001b[0mcore.scoring.ScoreFunctionFactory: {0} \u001b[0mSCOREFUNCTION: \u001b[32mref2015\u001b[0m\n",
      "\u001b[0mcore.scoring.etable: {0} \u001b[0mStarting energy table calculation\n",
      "\u001b[0mcore.scoring.etable: {0} \u001b[0msmooth_etable: changing atr/rep split to bottom of energy well\n",
      "\u001b[0mcore.scoring.etable: {0} \u001b[0msmooth_etable: spline smoothing lj etables (maxdis = 6)\n",
      "\u001b[0mcore.scoring.etable: {0} \u001b[0msmooth_etable: spline smoothing solvation etables (max_dis = 6)\n",
      "\u001b[0mcore.scoring.etable: {0} \u001b[0mFinished calculating energy tables.\n",
      "\u001b[0mbasic.io.database: {0} \u001b[0mDatabase file opened: scoring/score_functions/hbonds/ref2015_params/HBPoly1D.csv\n",
      "\u001b[0mbasic.io.database: {0} \u001b[0mDatabase file opened: scoring/score_functions/hbonds/ref2015_params/HBFadeIntervals.csv\n",
      "\u001b[0mbasic.io.database: {0} \u001b[0mDatabase file opened: scoring/score_functions/hbonds/ref2015_params/HBEval.csv\n",
      "\u001b[0mbasic.io.database: {0} \u001b[0mDatabase file opened: scoring/score_functions/hbonds/ref2015_params/DonStrength.csv\n",
      "\u001b[0mbasic.io.database: {0} \u001b[0mDatabase file opened: scoring/score_functions/hbonds/ref2015_params/AccStrength.csv\n",
      "\u001b[0mbasic.io.database: {0} \u001b[0mDatabase file opened: scoring/score_functions/rama/fd/all.ramaProb\n",
      "\u001b[0mbasic.io.database: {0} \u001b[0mDatabase file opened: scoring/score_functions/rama/fd/prepro.ramaProb\n",
      "\u001b[0mbasic.io.database: {0} \u001b[0mDatabase file opened: scoring/score_functions/omega/omega_ppdep.all.txt\n",
      "\u001b[0mbasic.io.database: {0} \u001b[0mDatabase file opened: scoring/score_functions/omega/omega_ppdep.gly.txt\n",
      "\u001b[0mbasic.io.database: {0} \u001b[0mDatabase file opened: scoring/score_functions/omega/omega_ppdep.pro.txt\n",
      "\u001b[0mbasic.io.database: {0} \u001b[0mDatabase file opened: scoring/score_functions/omega/omega_ppdep.valile.txt\n",
      "\u001b[0mbasic.io.database: {0} \u001b[0mDatabase file opened: scoring/score_functions/P_AA_pp/P_AA\n",
      "\u001b[0mbasic.io.database: {0} \u001b[0mDatabase file opened: scoring/score_functions/P_AA_pp/P_AA_n\n",
      "\u001b[0mcore.scoring.P_AA: {0} \u001b[0mshapovalov_lib::shap_p_aa_pp_smooth_level of 1( aka low_smooth ) got activated.\n",
      "\u001b[0mbasic.io.database: {0} \u001b[0mDatabase file opened: scoring/score_functions/P_AA_pp/shapovalov/10deg/kappa131/a20.prop\n",
      "\u001b[0mbasic.io.database: {0} \u001b[0mDatabase file opened: scoring/score_functions/elec_cp_reps.dat\n",
      "\u001b[0mcore.scoring.elec.util: {0} \u001b[0mRead 40 countpair representative atoms\n",
      "\u001b[0mcore.pack.dunbrack.RotamerLibrary: {0} \u001b[0mshapovalov_lib_fixes_enable option is true.\n",
      "\u001b[0mcore.pack.dunbrack.RotamerLibrary: {0} \u001b[0mshapovalov_lib::shap_dun10_smooth_level of 1( aka lowest_smooth ) got activated.\n",
      "\u001b[0mcore.pack.dunbrack.RotamerLibrary: {0} \u001b[0mBinary rotamer library selected: /home/colin/anaconda3/envs/pyrosetta/lib/python3.7/site-packages/pyrosetta/database/rotamer/shapovalov/StpDwn_0-0-0/Dunbrack10.lib.bin\n",
      "\u001b[0mcore.pack.dunbrack.RotamerLibrary: {0} \u001b[0mUsing Dunbrack library binary file '/home/colin/anaconda3/envs/pyrosetta/lib/python3.7/site-packages/pyrosetta/database/rotamer/shapovalov/StpDwn_0-0-0/Dunbrack10.lib.bin'.\n",
      "\u001b[0mcore.pack.dunbrack.RotamerLibrary: {0} \u001b[0mDunbrack 2010 library took 0.131826 seconds to load from binary\n",
      "\u001b[0mcore.pack.pack_rotamers: {0} \u001b[0mbuilt 101 rotamers at 4 positions.\n",
      "\u001b[0mcore.pack.pack_rotamers: {0} \u001b[0mRequesting all available threads for interaction graph computation.\n",
      "\u001b[0mcore.pack.interaction_graph.interaction_graph_factory: {0} \u001b[0mInstantiating DensePDInteractionGraph\n",
      "\u001b[0mbasic.thread_manager.RosettaThreadManager: {?} \u001b[0mCreating a thread pool of 1 threads.\n",
      "\u001b[0mbasic.thread_manager.RosettaThreadPool: {?} \u001b[0mLaunched 0 new threads.\n",
      "\u001b[0mcore.pack.rotamer_set.RotamerSets: {0} \u001b[0mCompleted interaction graph pre-calculation in 1 available threads (1 had been requested).\n",
      "\u001b[0mbasic.io.database: {0} \u001b[0mDatabase file opened: scoring/score_functions/PairEPotential/pdb_pair_stats_fine\n"
     ]
    }
   ],
   "source": [
    "pose_init = pose_from_pdb(\"native_test.pdb\")\n",
    "sf = create_score_function('docking')\n",
    "\n",
    "# # Need to set up the fold tree here?? maybe not?\n",
    "# from pyrosetta.rosetta.protocols.docking import setup_foldtree\n",
    "# print(pose_init.fold_tree())\n",
    "# setup_foldtree(pose_init, \"A_B\", Vector1([1]))\n",
    "# print(pose_init.fold_tree())"
   ]
  },
  {
   "cell_type": "code",
   "execution_count": 5,
   "metadata": {},
   "outputs": [
    {
     "data": {
      "text/plain": [
       "-136.23316087477556"
      ]
     },
     "execution_count": 5,
     "metadata": {},
     "output_type": "execute_result"
    }
   ],
   "source": [
    "sf.score(pose_init)"
   ]
  },
  {
   "cell_type": "code",
   "execution_count": 6,
   "metadata": {},
   "outputs": [
    {
     "name": "stdout",
     "output_type": "stream",
     "text": [
      "\u001b[0mcore.scoring.ScoreFunctionFactory: {0} \u001b[0mSCOREFUNCTION: \u001b[32mref2015\u001b[0m\n",
      "\u001b[0mbasic.io.database: {0} \u001b[0mDatabase file opened: scoring/score_functions/EnvPairPotential/env_log.txt\n",
      "\u001b[0mbasic.io.database: {0} \u001b[0mDatabase file opened: scoring/score_functions/EnvPairPotential/cbeta_den.txt\n",
      "\u001b[0mbasic.io.database: {0} \u001b[0mDatabase file opened: scoring/score_functions/EnvPairPotential/pair_log.txt\n",
      "\u001b[0mbasic.io.database: {0} \u001b[0mDatabase file opened: scoring/score_functions/EnvPairPotential/cenpack_log.txt\n",
      "\u001b[0mcore.scoring.ramachandran: {0} \u001b[0mshapovalov_lib::shap_rama_smooth_level of 4( aka highest_smooth ) got activated.\n",
      "\u001b[0mbasic.io.database: {0} \u001b[0mDatabase file opened: scoring/score_functions/rama/shapovalov/kappa25/all.ramaProb\n",
      "\u001b[0mbasic.io.database: {0} \u001b[0mDatabase file opened: scoring/score_functions/rama/flat/avg_L_rama.dat\n",
      "\u001b[0mcore.scoring.ramachandran: {0} \u001b[0mReading custom Ramachandran table from scoring/score_functions/rama/flat/avg_L_rama.dat.\n",
      "\u001b[0mbasic.io.database: {0} \u001b[0mDatabase file opened: scoring/score_functions/rama/flat/sym_all_rama.dat\n",
      "\u001b[0mcore.scoring.ramachandran: {0} \u001b[0mReading custom Ramachandran table from scoring/score_functions/rama/flat/sym_all_rama.dat.\n",
      "\u001b[0mbasic.io.database: {0} \u001b[0mDatabase file opened: scoring/score_functions/rama/flat/sym_G_rama.dat\n",
      "\u001b[0mcore.scoring.ramachandran: {0} \u001b[0mReading custom Ramachandran table from scoring/score_functions/rama/flat/sym_G_rama.dat.\n",
      "\u001b[0mbasic.io.database: {0} \u001b[0mDatabase file opened: scoring/score_functions/rama/flat/sym_P_rama.dat\n",
      "\u001b[0mcore.scoring.ramachandran: {0} \u001b[0mReading custom Ramachandran table from scoring/score_functions/rama/flat/sym_P_rama.dat.\n",
      "\u001b[0mbasic.io.database: {0} \u001b[0mDatabase file opened: scoring/score_functions/rama/flat/avg_L_rama_str.dat\n",
      "\u001b[0mcore.scoring.ramachandran: {0} \u001b[0mReading custom Ramachandran table from scoring/score_functions/rama/flat/avg_L_rama_str.dat.\n",
      "\u001b[0mbasic.io.database: {0} \u001b[0mDatabase file opened: scoring/score_functions/rama/flat/sym_all_rama_str.dat\n",
      "\u001b[0mcore.scoring.ramachandran: {0} \u001b[0mReading custom Ramachandran table from scoring/score_functions/rama/flat/sym_all_rama_str.dat.\n",
      "\u001b[0mbasic.io.database: {0} \u001b[0mDatabase file opened: scoring/score_functions/rama/flat/sym_G_rama_str.dat\n",
      "\u001b[0mcore.scoring.ramachandran: {0} \u001b[0mReading custom Ramachandran table from scoring/score_functions/rama/flat/sym_G_rama_str.dat.\n",
      "\u001b[0mbasic.io.database: {0} \u001b[0mDatabase file opened: scoring/score_functions/rama/flat/sym_P_rama_str.dat\n",
      "\u001b[0mcore.scoring.ramachandran: {0} \u001b[0mReading custom Ramachandran table from scoring/score_functions/rama/flat/sym_P_rama_str.dat.\n",
      "\u001b[0mcore.scoring.ScoreFunctionFactory: {0} \u001b[0mSCOREFUNCTION: \u001b[32mref2015\u001b[0m\n"
     ]
    }
   ],
   "source": [
    "fpdock = FlexPepDockingProtocol()"
   ]
  },
  {
   "cell_type": "markdown",
   "metadata": {},
   "source": [
    "This seems to be working. Now implement in a ```PyJobDistributor```? Will this be any different than before? Probably not?"
   ]
  },
  {
   "cell_type": "code",
   "execution_count": 15,
   "metadata": {},
   "outputs": [
    {
     "name": "stdout",
     "output_type": "stream",
     "text": [
      "Working on decoy: test6_1.pdb\n"
     ]
    }
   ],
   "source": [
    "jd = PyJobDistributor('test_furman_params', 10, sf)"
   ]
  },
  {
   "cell_type": "code",
   "execution_count": 16,
   "metadata": {},
   "outputs": [
    {
     "name": "stdout",
     "output_type": "stream",
     "text": [
      "\u001b[0mFlexPepDockingProtocol: {0} \u001b[0mapply\n",
      "\u001b[0mprotocols.flexPepDocking.FlexPepDockingFlags: {0} \u001b[0mReceptor chain: A\n",
      "\u001b[0mprotocols.flexPepDocking.FlexPepDockingFlags: {0} \u001b[0mReceptor first res: 1\n",
      "\u001b[0mprotocols.flexPepDocking.FlexPepDockingFlags: {0} \u001b[0mReceptor nres: 157\n",
      "\u001b[0mprotocols.flexPepDocking.FlexPepDockingFlags: {0} \u001b[0mPeptide chain: B\n",
      "\u001b[0mprotocols.flexPepDocking.FlexPepDockingFlags: {0} \u001b[0mPeptide first res: 158\n",
      "\u001b[0mprotocols.flexPepDocking.FlexPepDockingFlags: {0} \u001b[0mPeptide nres: 13\n",
      "\u001b[0mFlexPepDockingProtocol: {0} \u001b[0mOld FoldTree : FOLD_TREE  EDGE 1 157 -1  EDGE 1 158 1  EDGE 158 170 -1\n",
      "\u001b[0mFlexPepDockingProtocol: {0} \u001b[0mNew FoldTree : FOLD_TREE  EDGE 1 151 -1  EDGE 151 157 -1  EDGE 151 164 1  EDGE 164 158 -1  EDGE 164 170 -1\n",
      "\u001b[0mprotocols.moves.RigidBodyMover: {0} \u001b[0mTranslate: Jump (before): RT -0.858275 -0.158042 0.488248 -0.245263 -0.709392 -0.660764 0.450787 -0.686867 0.570092 0.730978 4.50163 1.42537\n",
      "\u001b[0mprotocols.moves.RigidBodyMover: {0} \u001b[0mTranslate: Jump (after):  RT -0.858275 -0.158042 0.488248 -0.245263 -0.709392 -0.660764 0.450787 -0.686867 0.570092 -279.989 -17.8815 960.954\n",
      "\u001b[0mFlexPepDockingPoseMetrics: {0} \u001b[0mIsc: 691.902\n",
      "\u001b[0mFlexPepDockingPoseMetrics: {0} \u001b[0mTotal BSA  is: 2164.1\n",
      "\u001b[0mFlexPepDockingPoseMetrics: {0} \u001b[0mInterface HB #: 21\n",
      "\u001b[0mFlexPepDockingPoseMetrics: {0} \u001b[0mTotal packstats: -0.0408934\n",
      "\u001b[0mFlexPepDockingPoseMetrics: {0} \u001b[0mInterface Unsat polar groups: 1\n",
      "\u001b[0mFlexPepDockingPoseMetrics: {0} \u001b[0m158 bsa: 60.3211 HB: 0 pack: 0.80086 unsat: 0\n",
      "\u001b[0mFlexPepDockingPoseMetrics: {0} \u001b[0m159 bsa: 119.545 HB: 2 pack: 0.705386 unsat: 0\n",
      "\u001b[0mFlexPepDockingPoseMetrics: {0} \u001b[0m160 bsa: 73.3876 HB: 1 pack: 0.295667 unsat: 0\n",
      "\u001b[0mFlexPepDockingPoseMetrics: {0} \u001b[0m161 bsa: 62.6051 HB: 2 pack: 0.5039 unsat: 0\n",
      "\u001b[0mFlexPepDockingPoseMetrics: {0} \u001b[0m162 bsa: 128.34 HB: 2 pack: 0.440343 unsat: 0\n",
      "\u001b[0mFlexPepDockingPoseMetrics: {0} \u001b[0m163 bsa: 195.592 HB: 3 pack: 0.501107 unsat: 0\n",
      "\u001b[0mFlexPepDockingPoseMetrics: {0} \u001b[0m164 bsa: 111.876 HB: 3 pack: 0.468689 unsat: 0\n",
      "\u001b[0mFlexPepDockingPoseMetrics: {0} \u001b[0m165 bsa: 100.634 HB: 2 pack: 0.253424 unsat: 0\n",
      "\u001b[0mFlexPepDockingPoseMetrics: {0} \u001b[0m166 bsa: 70.6679 HB: 2 pack: 0.496282 unsat: 0\n",
      "\u001b[0mFlexPepDockingPoseMetrics: {0} \u001b[0m167 bsa: 115.056 HB: 3 pack: 0.499127 unsat: 0\n",
      "\u001b[0mFlexPepDockingPoseMetrics: {0} \u001b[0m168 bsa: 116.525 HB: 1 pack: 0.574401 unsat: 0\n",
      "\u001b[0mFlexPepDockingPoseMetrics: {0} \u001b[0m169 bsa: 0.893609 HB: 0 pack: 0.538273 unsat: 0\n",
      "\u001b[0mFlexPepDockingPoseMetrics: {0} \u001b[0m170 bsa: 1.2163 HB: 0 pack: 0.33538 unsat: 0\n",
      "\u001b[0mFlexPepDockingProtocol: {0} \u001b[0m residue 5 A  is at the interface\n",
      "\u001b[0mFlexPepDockingProtocol: {0} \u001b[0m residue 7 A  is at the interface\n",
      "\u001b[0mFlexPepDockingProtocol: {0} \u001b[0m residue 9 A  is at the interface\n",
      "\u001b[0mFlexPepDockingProtocol: {0} \u001b[0m residue 10 A  is at the interface\n",
      "\u001b[0mFlexPepDockingProtocol: {0} \u001b[0m residue 11 A  is at the interface\n",
      "\u001b[0mFlexPepDockingProtocol: {0} \u001b[0m residue 12 A  is at the interface\n",
      "\u001b[0mFlexPepDockingProtocol: {0} \u001b[0m residue 13 A  is at the interface\n",
      "\u001b[0mFlexPepDockingProtocol: {0} \u001b[0m residue 14 A  is at the interface\n",
      "\u001b[0mFlexPepDockingProtocol: {0} \u001b[0m residue 15 A  is at the interface\n",
      "\u001b[0mFlexPepDockingProtocol: {0} \u001b[0m residue 16 A  is at the interface\n",
      "\u001b[0mFlexPepDockingProtocol: {0} \u001b[0m residue 17 A  is at the interface\n",
      "\u001b[0mFlexPepDockingProtocol: {0} \u001b[0m residue 18 A  is at the interface\n",
      "\u001b[0mFlexPepDockingProtocol: {0} \u001b[0m residue 20 A  is at the interface\n",
      "\u001b[0mFlexPepDockingProtocol: {0} \u001b[0m residue 21 A  is at the interface\n",
      "\u001b[0mFlexPepDockingProtocol: {0} \u001b[0m residue 24 A  is at the interface\n",
      "\u001b[0mFlexPepDockingProtocol: {0} \u001b[0m residue 40 A  is at the interface\n",
      "\u001b[0mFlexPepDockingProtocol: {0} \u001b[0m residue 144 A  is at the interface\n",
      "\u001b[0mFlexPepDockingProtocol: {0} \u001b[0m residue 148 A  is at the interface\n",
      "\u001b[0mFlexPepDockingProtocol: {0} \u001b[0m residue 149 A  is at the interface\n",
      "\u001b[0mFlexPepDockingProtocol: {0} \u001b[0m residue 150 A  is at the interface\n",
      "\u001b[0mFlexPepDockingProtocol: {0} \u001b[0m residue 151 A  is at the interface\n",
      "\u001b[0mFlexPepDockingProtocol: {0} \u001b[0m residue 152 A  is at the interface\n",
      "\u001b[0mFlexPepDockingProtocol: {0} \u001b[0m residue 153 A  is at the interface\n",
      "\u001b[0mFlexPepDockingProtocol: {0} \u001b[0m residue 154 A  is at the interface\n",
      "\u001b[0mFlexPepDockingProtocol: {0} \u001b[0m residue 155 A  is at the interface\n",
      "\u001b[0mFlexPepDockingProtocol: {0} \u001b[0m residue 156 A  is at the interface\n",
      "\u001b[0mFlexPepDockingProtocol: {0} \u001b[0m residue 157 B  is at the interface\n",
      "\u001b[0mFlexPepDockingProtocol: {0} \u001b[0m residue 158 B  is at the interface\n",
      "\u001b[0mFlexPepDockingProtocol: {0} \u001b[0m residue 159 B  is at the interface\n",
      "\u001b[0mFlexPepDockingProtocol: {0} \u001b[0m residue 160 B  is at the interface\n",
      "\u001b[0mFlexPepDockingProtocol: {0} \u001b[0m residue 161 B  is at the interface\n",
      "\u001b[0mFlexPepDockingProtocol: {0} \u001b[0m residue 162 B  is at the interface\n",
      "\u001b[0mFlexPepDockingProtocol: {0} \u001b[0m residue 163 B  is at the interface\n",
      "\u001b[0mFlexPepDockingProtocol: {0} \u001b[0m residue 164 B  is at the interface\n",
      "\u001b[0mFlexPepDockingProtocol: {0} \u001b[0m residue 165 B  is at the interface\n",
      "\u001b[0mFlexPepDockingProtocol: {0} \u001b[0m residue 166 B  is at the interface\n",
      "\u001b[0mFlexPepDockingProtocol: {0} \u001b[0m residue 167 B  is at the interface\n",
      "Working on decoy: test6_0.pdb\n",
      "\u001b[0mFlexPepDockingProtocol: {0} \u001b[0mapply\n",
      "\u001b[0mprotocols.flexPepDocking.FlexPepDockingFlags: {0} \u001b[0mReceptor chain: A\n",
      "\u001b[0mprotocols.flexPepDocking.FlexPepDockingFlags: {0} \u001b[0mReceptor first res: 1\n",
      "\u001b[0mprotocols.flexPepDocking.FlexPepDockingFlags: {0} \u001b[0mReceptor nres: 157\n",
      "\u001b[0mprotocols.flexPepDocking.FlexPepDockingFlags: {0} \u001b[0mPeptide chain: B\n",
      "\u001b[0mprotocols.flexPepDocking.FlexPepDockingFlags: {0} \u001b[0mPeptide first res: 158\n",
      "\u001b[0mprotocols.flexPepDocking.FlexPepDockingFlags: {0} \u001b[0mPeptide nres: 13\n",
      "\u001b[0mFlexPepDockingProtocol: {0} \u001b[0mOld FoldTree : FOLD_TREE  EDGE 1 157 -1  EDGE 1 158 1  EDGE 158 170 -1\n",
      "\u001b[0mFlexPepDockingProtocol: {0} \u001b[0mNew FoldTree : FOLD_TREE  EDGE 1 151 -1  EDGE 151 157 -1  EDGE 151 164 1  EDGE 164 158 -1  EDGE 164 170 -1\n",
      "\u001b[0mprotocols.moves.RigidBodyMover: {0} \u001b[0mTranslate: Jump (before): RT -0.858275 -0.158042 0.488248 -0.245263 -0.709392 -0.660764 0.450787 -0.686867 0.570092 0.730978 4.50163 1.42537\n",
      "\u001b[0mprotocols.moves.RigidBodyMover: {0} \u001b[0mTranslate: Jump (after):  RT -0.858275 -0.158042 0.488248 -0.245263 -0.709392 -0.660764 0.450787 -0.686867 0.570092 -279.989 -17.8815 960.954\n",
      "\u001b[0mFlexPepDockingPoseMetrics: {0} \u001b[0mIsc: 691.902\n",
      "\u001b[0mFlexPepDockingPoseMetrics: {0} \u001b[0mTotal BSA  is: 2164.1\n",
      "\u001b[0mFlexPepDockingPoseMetrics: {0} \u001b[0mInterface HB #: 21\n",
      "\u001b[0mFlexPepDockingPoseMetrics: {0} \u001b[0mTotal packstats: -0.0232813\n",
      "\u001b[0mFlexPepDockingPoseMetrics: {0} \u001b[0mInterface Unsat polar groups: 1\n",
      "\u001b[0mFlexPepDockingPoseMetrics: {0} \u001b[0m158 bsa: 60.3211 HB: 0 pack: 0.817854 unsat: 0\n",
      "\u001b[0mFlexPepDockingPoseMetrics: {0} \u001b[0m159 bsa: 119.545 HB: 2 pack: 0.799955 unsat: 0\n",
      "\u001b[0mFlexPepDockingPoseMetrics: {0} \u001b[0m160 bsa: 73.3876 HB: 1 pack: 0.346096 unsat: 0\n",
      "\u001b[0mFlexPepDockingPoseMetrics: {0} \u001b[0m161 bsa: 62.6051 HB: 2 pack: 0.744367 unsat: 0\n",
      "\u001b[0mFlexPepDockingPoseMetrics: {0} \u001b[0m162 bsa: 128.34 HB: 2 pack: 0.716961 unsat: 0\n",
      "\u001b[0mFlexPepDockingPoseMetrics: {0} \u001b[0m163 bsa: 195.592 HB: 3 pack: 0.419589 unsat: 0\n",
      "\u001b[0mFlexPepDockingPoseMetrics: {0} \u001b[0m164 bsa: 111.876 HB: 3 pack: 0.689157 unsat: 0\n",
      "\u001b[0mFlexPepDockingPoseMetrics: {0} \u001b[0m165 bsa: 100.634 HB: 2 pack: 0.494896 unsat: 0\n",
      "\u001b[0mFlexPepDockingPoseMetrics: {0} \u001b[0m166 bsa: 70.6679 HB: 2 pack: 0.564454 unsat: 0\n",
      "\u001b[0mFlexPepDockingPoseMetrics: {0} \u001b[0m167 bsa: 115.056 HB: 3 pack: 0.30999 unsat: 0\n",
      "\u001b[0mFlexPepDockingPoseMetrics: {0} \u001b[0m168 bsa: 116.525 HB: 1 pack: 0.621759 unsat: 0\n",
      "\u001b[0mFlexPepDockingPoseMetrics: {0} \u001b[0m169 bsa: 0.893609 HB: 0 pack: 0.263894 unsat: 0\n",
      "\u001b[0mFlexPepDockingPoseMetrics: {0} \u001b[0m170 bsa: 1.2163 HB: 0 pack: 0.247125 unsat: 0\n",
      "\u001b[0mFlexPepDockingProtocol: {0} \u001b[0m residue 5 A  is at the interface\n",
      "\u001b[0mFlexPepDockingProtocol: {0} \u001b[0m residue 7 A  is at the interface\n",
      "\u001b[0mFlexPepDockingProtocol: {0} \u001b[0m residue 9 A  is at the interface\n",
      "\u001b[0mFlexPepDockingProtocol: {0} \u001b[0m residue 10 A  is at the interface\n",
      "\u001b[0mFlexPepDockingProtocol: {0} \u001b[0m residue 11 A  is at the interface\n",
      "\u001b[0mFlexPepDockingProtocol: {0} \u001b[0m residue 12 A  is at the interface\n",
      "\u001b[0mFlexPepDockingProtocol: {0} \u001b[0m residue 13 A  is at the interface\n",
      "\u001b[0mFlexPepDockingProtocol: {0} \u001b[0m residue 14 A  is at the interface\n",
      "\u001b[0mFlexPepDockingProtocol: {0} \u001b[0m residue 15 A  is at the interface\n",
      "\u001b[0mFlexPepDockingProtocol: {0} \u001b[0m residue 16 A  is at the interface\n",
      "\u001b[0mFlexPepDockingProtocol: {0} \u001b[0m residue 17 A  is at the interface\n",
      "\u001b[0mFlexPepDockingProtocol: {0} \u001b[0m residue 18 A  is at the interface\n",
      "\u001b[0mFlexPepDockingProtocol: {0} \u001b[0m residue 20 A  is at the interface\n",
      "\u001b[0mFlexPepDockingProtocol: {0} \u001b[0m residue 21 A  is at the interface\n",
      "\u001b[0mFlexPepDockingProtocol: {0} \u001b[0m residue 24 A  is at the interface\n",
      "\u001b[0mFlexPepDockingProtocol: {0} \u001b[0m residue 40 A  is at the interface\n",
      "\u001b[0mFlexPepDockingProtocol: {0} \u001b[0m residue 144 A  is at the interface\n",
      "\u001b[0mFlexPepDockingProtocol: {0} \u001b[0m residue 148 A  is at the interface\n",
      "\u001b[0mFlexPepDockingProtocol: {0} \u001b[0m residue 149 A  is at the interface\n",
      "\u001b[0mFlexPepDockingProtocol: {0} \u001b[0m residue 150 A  is at the interface\n",
      "\u001b[0mFlexPepDockingProtocol: {0} \u001b[0m residue 151 A  is at the interface\n",
      "\u001b[0mFlexPepDockingProtocol: {0} \u001b[0m residue 152 A  is at the interface\n",
      "\u001b[0mFlexPepDockingProtocol: {0} \u001b[0m residue 153 A  is at the interface\n",
      "\u001b[0mFlexPepDockingProtocol: {0} \u001b[0m residue 154 A  is at the interface\n",
      "\u001b[0mFlexPepDockingProtocol: {0} \u001b[0m residue 155 A  is at the interface\n",
      "\u001b[0mFlexPepDockingProtocol: {0} \u001b[0m residue 156 A  is at the interface\n",
      "\u001b[0mFlexPepDockingProtocol: {0} \u001b[0m residue 157 B  is at the interface\n",
      "\u001b[0mFlexPepDockingProtocol: {0} \u001b[0m residue 158 B  is at the interface\n",
      "\u001b[0mFlexPepDockingProtocol: {0} \u001b[0m residue 159 B  is at the interface\n",
      "\u001b[0mFlexPepDockingProtocol: {0} \u001b[0m residue 160 B  is at the interface\n",
      "\u001b[0mFlexPepDockingProtocol: {0} \u001b[0m residue 161 B  is at the interface\n",
      "\u001b[0mFlexPepDockingProtocol: {0} \u001b[0m residue 162 B  is at the interface\n",
      "\u001b[0mFlexPepDockingProtocol: {0} \u001b[0m residue 163 B  is at the interface\n",
      "\u001b[0mFlexPepDockingProtocol: {0} \u001b[0m residue 164 B  is at the interface\n",
      "\u001b[0mFlexPepDockingProtocol: {0} \u001b[0m residue 165 B  is at the interface\n",
      "\u001b[0mFlexPepDockingProtocol: {0} \u001b[0m residue 166 B  is at the interface\n",
      "\u001b[0mFlexPepDockingProtocol: {0} \u001b[0m residue 167 B  is at the interface\n"
     ]
    }
   ],
   "source": [
    "while not jd.job_complete:\n",
    "    pp = Pose()\n",
    "    pp.assign(pose_init)\n",
    "    fpdock.apply(pp)\n",
    "    jd.output_decoy(pp)"
   ]
  },
  {
   "cell_type": "code",
   "execution_count": null,
   "metadata": {},
   "outputs": [],
   "source": []
  }
 ],
 "metadata": {
  "kernelspec": {
   "display_name": "Python [conda env:pyrosetta]",
   "language": "python",
   "name": "conda-env-pyrosetta-py"
  },
  "language_info": {
   "codemirror_mode": {
    "name": "ipython",
    "version": 3
   },
   "file_extension": ".py",
   "mimetype": "text/x-python",
   "name": "python",
   "nbconvert_exporter": "python",
   "pygments_lexer": "ipython3",
   "version": "3.7.4"
  }
 },
 "nbformat": 4,
 "nbformat_minor": 4
}
