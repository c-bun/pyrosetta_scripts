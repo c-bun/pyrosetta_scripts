{
 "cells": [
  {
   "cell_type": "markdown",
   "metadata": {},
   "source": [
    "Take the output from ```nluc_fpdock_test1.ipynb``` and look to see if we get a correlation with KD as expected."
   ]
  },
  {
   "cell_type": "code",
   "execution_count": 56,
   "metadata": {},
   "outputs": [],
   "source": [
    "from os import listdir\n",
    "import pandas as pd\n",
    "import seaborn as sn\n",
    "import numpy as np\n",
    "import matplotlib.pyplot as plt"
   ]
  },
  {
   "cell_type": "code",
   "execution_count": 7,
   "metadata": {},
   "outputs": [
    {
     "name": "stdout",
     "output_type": "stream",
     "text": [
      "['peptide114-20210319-191812.fasc', 'peptide128-20210319-191812.fasc', 'peptide104-20210319-191812.fasc', 'peptide86-20210319-191812.fasc', 'peptide101-20210319-191812.fasc', 'native_test-20210319-191812.fasc', 'peptide99-20210319-191812.fasc', 'peptide79-20210319-191812.fasc', 'peptide78-20210319-191812.fasc']\n"
     ]
    }
   ],
   "source": [
    "l = listdir(\"./decoys/\")\n",
    "fascs = []\n",
    "for f in l:\n",
    "    if \".fasc\" in f:\n",
    "        fascs.append(f)\n",
    "\n",
    "print(fascs)"
   ]
  },
  {
   "cell_type": "code",
   "execution_count": 22,
   "metadata": {},
   "outputs": [
    {
     "data": {
      "text/plain": [
       "(450, 31)"
      ]
     },
     "execution_count": 22,
     "metadata": {},
     "output_type": "execute_result"
    }
   ],
   "source": [
    "data = pd.read_json(\"./decoys/\"+fascs[0], orient='records', lines=True)\n",
    "\n",
    "for f in fascs[1:]:\n",
    "    d = pd.read_json(\"./decoys/\"+f, orient='records', lines=True)\n",
    "    data = data.append(d)\n",
    "\n",
    "data.shape"
   ]
  },
  {
   "cell_type": "code",
   "execution_count": 23,
   "metadata": {},
   "outputs": [
    {
     "data": {
      "text/plain": [
       "<matplotlib.axes._subplots.AxesSubplot at 0x7f5246a3acd0>"
      ]
     },
     "execution_count": 23,
     "metadata": {},
     "output_type": "execute_result"
    },
    {
     "data": {
      "image/png": "[encoded data removed]",
      "text/plain": [
       "<Figure size 432x288 with 1 Axes>"
      ]
     },
     "metadata": {
      "needs_background": "light"
     },
     "output_type": "display_data"
    }
   ],
   "source": [
    "sn.scatterplot(x='pdb_name', y='total_score', data=data)"
   ]
  },
  {
   "cell_type": "markdown",
   "metadata": {},
   "source": [
    "Now try to take only the top 10% of ```total_score```."
   ]
  },
  {
   "cell_type": "code",
   "execution_count": 32,
   "metadata": {},
   "outputs": [
    {
     "data": {
      "text/plain": [
       "Index(['pdb_name', 'decoy', 'filename', 'nstruct', 'angle_constraint',\n",
       "       'atom_pair_constraint', 'chainbreak', 'coordinate_constraint',\n",
       "       'dihedral_constraint', 'dslf_fa13', 'fa_atr', 'fa_dun', 'fa_elec',\n",
       "       'fa_intra_rep', 'fa_intra_sol_xover4', 'fa_rep', 'fa_sol',\n",
       "       'hbond_bb_sc', 'hbond_lr_bb', 'hbond_sc', 'hbond_sr_bb', 'lk_ball_wtd',\n",
       "       'metalbinding_constraint', 'omega', 'p_aa_pp', 'pro_close',\n",
       "       'rama_prepro', 'ref', 'res_type_constraint', 'total_score',\n",
       "       'yhh_planarity'],\n",
       "      dtype='object')"
      ]
     },
     "execution_count": 32,
     "metadata": {},
     "output_type": "execute_result"
    }
   ],
   "source": [
    "data.columns"
   ]
  },
  {
   "cell_type": "code",
   "execution_count": 43,
   "metadata": {
    "collapsed": true,
    "jupyter": {
     "outputs_hidden": true
    }
   },
   "outputs": [
    {
     "data": {
      "text/html": [
       "<div>\n",
       "<style scoped>\n",
       "    .dataframe tbody tr th:only-of-type {\n",
       "        vertical-align: middle;\n",
       "    }\n",
       "\n",
       "    .dataframe tbody tr th {\n",
       "        vertical-align: top;\n",
       "    }\n",
       "\n",
       "    .dataframe thead th {\n",
       "        text-align: right;\n",
       "    }\n",
       "</style>\n",
       "<table border=\"1\" class=\"dataframe\">\n",
       "  <thead>\n",
       "    <tr style=\"text-align: right;\">\n",
       "      <th></th>\n",
       "      <th>pdb_name</th>\n",
       "      <th>decoy</th>\n",
       "      <th>filename</th>\n",
       "      <th>nstruct</th>\n",
       "      <th>angle_constraint</th>\n",
       "      <th>atom_pair_constraint</th>\n",
       "      <th>chainbreak</th>\n",
       "      <th>coordinate_constraint</th>\n",
       "      <th>dihedral_constraint</th>\n",
       "      <th>dslf_fa13</th>\n",
       "      <th>...</th>\n",
       "      <th>metalbinding_constraint</th>\n",
       "      <th>omega</th>\n",
       "      <th>p_aa_pp</th>\n",
       "      <th>pro_close</th>\n",
       "      <th>rama_prepro</th>\n",
       "      <th>ref</th>\n",
       "      <th>res_type_constraint</th>\n",
       "      <th>total_score</th>\n",
       "      <th>yhh_planarity</th>\n",
       "      <th>peptide</th>\n",
       "    </tr>\n",
       "  </thead>\n",
       "  <tbody>\n",
       "    <tr>\n",
       "      <td>0</td>\n",
       "      <td>./decoys/peptide114-20210319-191812</td>\n",
       "      <td>./decoys/peptide114-20210319-191812_45.pdb</td>\n",
       "      <td>./decoys/peptide114-20210319-191812_45.pdb</td>\n",
       "      <td>50</td>\n",
       "      <td>0</td>\n",
       "      <td>0</td>\n",
       "      <td>0</td>\n",
       "      <td>0</td>\n",
       "      <td>0</td>\n",
       "      <td>0</td>\n",
       "      <td>...</td>\n",
       "      <td>0</td>\n",
       "      <td>36.992090</td>\n",
       "      <td>-34.980728</td>\n",
       "      <td>1.443017</td>\n",
       "      <td>8.988627</td>\n",
       "      <td>78.30918</td>\n",
       "      <td>0</td>\n",
       "      <td>-378.834747</td>\n",
       "      <td>0.034116</td>\n",
       "      <td>peptide114</td>\n",
       "    </tr>\n",
       "    <tr>\n",
       "      <td>1</td>\n",
       "      <td>./decoys/peptide114-20210319-191812</td>\n",
       "      <td>./decoys/peptide114-20210319-191812_47.pdb</td>\n",
       "      <td>./decoys/peptide114-20210319-191812_47.pdb</td>\n",
       "      <td>50</td>\n",
       "      <td>0</td>\n",
       "      <td>0</td>\n",
       "      <td>0</td>\n",
       "      <td>0</td>\n",
       "      <td>0</td>\n",
       "      <td>0</td>\n",
       "      <td>...</td>\n",
       "      <td>0</td>\n",
       "      <td>36.831696</td>\n",
       "      <td>-34.822754</td>\n",
       "      <td>1.408292</td>\n",
       "      <td>8.338995</td>\n",
       "      <td>78.30918</td>\n",
       "      <td>0</td>\n",
       "      <td>-375.488688</td>\n",
       "      <td>0.037850</td>\n",
       "      <td>peptide114</td>\n",
       "    </tr>\n",
       "    <tr>\n",
       "      <td>2</td>\n",
       "      <td>./decoys/peptide114-20210319-191812</td>\n",
       "      <td>./decoys/peptide114-20210319-191812_9.pdb</td>\n",
       "      <td>./decoys/peptide114-20210319-191812_9.pdb</td>\n",
       "      <td>50</td>\n",
       "      <td>0</td>\n",
       "      <td>0</td>\n",
       "      <td>0</td>\n",
       "      <td>0</td>\n",
       "      <td>0</td>\n",
       "      <td>0</td>\n",
       "      <td>...</td>\n",
       "      <td>0</td>\n",
       "      <td>38.273026</td>\n",
       "      <td>-35.919489</td>\n",
       "      <td>1.398692</td>\n",
       "      <td>6.396311</td>\n",
       "      <td>78.30918</td>\n",
       "      <td>0</td>\n",
       "      <td>-377.389986</td>\n",
       "      <td>0.036818</td>\n",
       "      <td>peptide114</td>\n",
       "    </tr>\n",
       "    <tr>\n",
       "      <td>3</td>\n",
       "      <td>./decoys/peptide114-20210319-191812</td>\n",
       "      <td>./decoys/peptide114-20210319-191812_11.pdb</td>\n",
       "      <td>./decoys/peptide114-20210319-191812_11.pdb</td>\n",
       "      <td>50</td>\n",
       "      <td>0</td>\n",
       "      <td>0</td>\n",
       "      <td>0</td>\n",
       "      <td>0</td>\n",
       "      <td>0</td>\n",
       "      <td>0</td>\n",
       "      <td>...</td>\n",
       "      <td>0</td>\n",
       "      <td>37.607945</td>\n",
       "      <td>-35.416436</td>\n",
       "      <td>1.490095</td>\n",
       "      <td>6.235704</td>\n",
       "      <td>78.30918</td>\n",
       "      <td>0</td>\n",
       "      <td>-378.678160</td>\n",
       "      <td>0.020556</td>\n",
       "      <td>peptide114</td>\n",
       "    </tr>\n",
       "    <tr>\n",
       "      <td>4</td>\n",
       "      <td>./decoys/peptide114-20210319-191812</td>\n",
       "      <td>./decoys/peptide114-20210319-191812_10.pdb</td>\n",
       "      <td>./decoys/peptide114-20210319-191812_10.pdb</td>\n",
       "      <td>50</td>\n",
       "      <td>0</td>\n",
       "      <td>0</td>\n",
       "      <td>0</td>\n",
       "      <td>0</td>\n",
       "      <td>0</td>\n",
       "      <td>0</td>\n",
       "      <td>...</td>\n",
       "      <td>0</td>\n",
       "      <td>38.049247</td>\n",
       "      <td>-35.807309</td>\n",
       "      <td>1.285400</td>\n",
       "      <td>6.208295</td>\n",
       "      <td>78.30918</td>\n",
       "      <td>0</td>\n",
       "      <td>-375.230904</td>\n",
       "      <td>0.023014</td>\n",
       "      <td>peptide114</td>\n",
       "    </tr>\n",
       "  </tbody>\n",
       "</table>\n",
       "<p>5 rows × 32 columns</p>\n",
       "</div>"
      ],
      "text/plain": [
       "                              pdb_name  \\\n",
       "0  ./decoys/peptide114-20210319-191812   \n",
       "1  ./decoys/peptide114-20210319-191812   \n",
       "2  ./decoys/peptide114-20210319-191812   \n",
       "3  ./decoys/peptide114-20210319-191812   \n",
       "4  ./decoys/peptide114-20210319-191812   \n",
       "\n",
       "                                        decoy  \\\n",
       "0  ./decoys/peptide114-20210319-191812_45.pdb   \n",
       "1  ./decoys/peptide114-20210319-191812_47.pdb   \n",
       "2   ./decoys/peptide114-20210319-191812_9.pdb   \n",
       "3  ./decoys/peptide114-20210319-191812_11.pdb   \n",
       "4  ./decoys/peptide114-20210319-191812_10.pdb   \n",
       "\n",
       "                                     filename  nstruct  angle_constraint  \\\n",
       "0  ./decoys/peptide114-20210319-191812_45.pdb       50                 0   \n",
       "1  ./decoys/peptide114-20210319-191812_47.pdb       50                 0   \n",
       "2   ./decoys/peptide114-20210319-191812_9.pdb       50                 0   \n",
       "3  ./decoys/peptide114-20210319-191812_11.pdb       50                 0   \n",
       "4  ./decoys/peptide114-20210319-191812_10.pdb       50                 0   \n",
       "\n",
       "   atom_pair_constraint  chainbreak  coordinate_constraint  \\\n",
       "0                     0           0                      0   \n",
       "1                     0           0                      0   \n",
       "2                     0           0                      0   \n",
       "3                     0           0                      0   \n",
       "4                     0           0                      0   \n",
       "\n",
       "   dihedral_constraint  dslf_fa13  ...  metalbinding_constraint      omega  \\\n",
       "0                    0          0  ...                        0  36.992090   \n",
       "1                    0          0  ...                        0  36.831696   \n",
       "2                    0          0  ...                        0  38.273026   \n",
       "3                    0          0  ...                        0  37.607945   \n",
       "4                    0          0  ...                        0  38.049247   \n",
       "\n",
       "     p_aa_pp  pro_close  rama_prepro       ref  res_type_constraint  \\\n",
       "0 -34.980728   1.443017     8.988627  78.30918                    0   \n",
       "1 -34.822754   1.408292     8.338995  78.30918                    0   \n",
       "2 -35.919489   1.398692     6.396311  78.30918                    0   \n",
       "3 -35.416436   1.490095     6.235704  78.30918                    0   \n",
       "4 -35.807309   1.285400     6.208295  78.30918                    0   \n",
       "\n",
       "   total_score  yhh_planarity     peptide  \n",
       "0  -378.834747       0.034116  peptide114  \n",
       "1  -375.488688       0.037850  peptide114  \n",
       "2  -377.389986       0.036818  peptide114  \n",
       "3  -378.678160       0.020556  peptide114  \n",
       "4  -375.230904       0.023014  peptide114  \n",
       "\n",
       "[5 rows x 32 columns]"
      ]
     },
     "execution_count": 43,
     "metadata": {},
     "output_type": "execute_result"
    }
   ],
   "source": [
    "peptide_names = []\n",
    "for i, r in data.iterrows():\n",
    "    s = r['filename'].split('-')\n",
    "    s = s[0].split('/')\n",
    "    name = s[2]\n",
    "    peptide_names.append(name)\n",
    "    \n",
    "data['peptide'] = peptide_names\n",
    "data.head()"
   ]
  },
  {
   "cell_type": "code",
   "execution_count": 82,
   "metadata": {},
   "outputs": [
    {
     "name": "stdout",
     "output_type": "stream",
     "text": [
      "peptide114: -378.7929491142074 plus minus 9.621097749293725\n",
      "peptide79: -372.99151588247156 plus minus 15.739354295893877\n",
      "peptide78: -369.4774498168213 plus minus 19.05435230898246\n",
      "peptide104: -375.04416954400375 plus minus 10.977606015755235\n",
      "native_test: -376.49587927667665 plus minus 14.903867331143168\n",
      "peptide101: -374.9218984992506 plus minus 11.031741344869197\n",
      "peptide99: -380.1938306548354 plus minus 9.019295797550253\n",
      "peptide128: -379.3428705384611 plus minus 9.510860886213418\n",
      "peptide86: -375.2271517388557 plus minus 13.814313396765119\n"
     ]
    },
    {
     "name": "stderr",
     "output_type": "stream",
     "text": [
      "/home/colin/anaconda3/envs/pyrosetta/lib/python3.7/site-packages/ipykernel_launcher.py:17: SettingWithCopyWarning: \n",
      "A value is trying to be set on a copy of a slice from a DataFrame.\n",
      "Try using .loc[row_indexer,col_indexer] = value instead\n",
      "\n",
      "See the caveats in the documentation: http://pandas.pydata.org/pandas-docs/stable/user_guide/indexing.html#returning-a-view-versus-a-copy\n"
     ]
    }
   ],
   "source": [
    "kds = {'peptide86':0.7E-9,\n",
    "       'peptide78':3.4E-9,\n",
    "       'peptide79':8.5E-9,\n",
    "       'peptide99':1.8E-7,\n",
    "       'peptide128':2.8E-7,\n",
    "       'native_test':0.9E-6,\n",
    "       'peptide104':1.3E-6,\n",
    "       'peptide101':2.5E-6,\n",
    "       'peptide114':1.9E-4\n",
    "       }\n",
    "\n",
    "peptides = set(data['peptide'])\n",
    "dfs = []\n",
    "\n",
    "for peptide in peptides:\n",
    "    subdata = data[data['peptide']==peptide]\n",
    "    subdata['kds'] = kds[peptide]\n",
    "    \n",
    "    stdev_total_score = np.std(subdata['total_score'])\n",
    "    mean_total_score = np.mean(subdata['total_score'])\n",
    "    print(\"{}: {} plus minus {}\".format(peptide, mean_total_score, stdev_total_score))\n",
    "\n",
    "    threshold_total_score = mean_total_score - stdev_total_score\n",
    "\n",
    "    #dfs.append(subdata[subdata['total_score']<threshold_total_score])\n",
    "    dfs.append(subdata.sort_values('total_score')[:5])"
   ]
  },
  {
   "cell_type": "code",
   "execution_count": 83,
   "metadata": {},
   "outputs": [
    {
     "data": {
      "text/plain": [
       "(45, 33)"
      ]
     },
     "execution_count": 83,
     "metadata": {},
     "output_type": "execute_result"
    }
   ],
   "source": [
    "significant_structures = pd.concat(dfs)\n",
    "significant_structures.shape"
   ]
  },
  {
   "cell_type": "code",
   "execution_count": 84,
   "metadata": {},
   "outputs": [
    {
     "data": {
      "text/plain": [
       "<matplotlib.axes._subplots.AxesSubplot at 0x7f5220fce310>"
      ]
     },
     "execution_count": 84,
     "metadata": {},
     "output_type": "execute_result"
    },
    {
     "data": {
      "image/png": "[encoded data removed]",
      "text/plain": [
       "<Figure size 432x288 with 1 Axes>"
      ]
     },
     "metadata": {
      "needs_background": "light"
     },
     "output_type": "display_data"
    }
   ],
   "source": [
    "significant_structures.plot('kds', 'total_score', kind='scatter', logx=True)"
   ]
  },
  {
   "cell_type": "code",
   "execution_count": 85,
   "metadata": {},
   "outputs": [
    {
     "data": {
      "text/plain": [
       "<matplotlib.axes._subplots.AxesSubplot at 0x7f52211b97d0>"
      ]
     },
     "execution_count": 85,
     "metadata": {},
     "output_type": "execute_result"
    },
    {
     "data": {
      "image/png": "[encoded data removed]",
      "text/plain": [
       "<Figure size 432x288 with 1 Axes>"
      ]
     },
     "metadata": {
      "needs_background": "light"
     },
     "output_type": "display_data"
    }
   ],
   "source": [
    "significant_structures.plot('kds', 'fa_atr', kind='scatter', logx=True)"
   ]
  },
  {
   "cell_type": "code",
   "execution_count": 86,
   "metadata": {},
   "outputs": [
    {
     "data": {
      "text/plain": [
       "nstruct                         NaN\n",
       "angle_constraint                NaN\n",
       "atom_pair_constraint            NaN\n",
       "chainbreak                      NaN\n",
       "coordinate_constraint           NaN\n",
       "dihedral_constraint             NaN\n",
       "dslf_fa13                       NaN\n",
       "fa_atr                     0.389006\n",
       "fa_dun                     0.127239\n",
       "fa_elec                    0.154410\n",
       "fa_intra_rep              -0.169652\n",
       "fa_intra_sol_xover4       -0.163687\n",
       "fa_rep                    -0.211402\n",
       "fa_sol                    -0.147783\n",
       "hbond_bb_sc                0.039099\n",
       "hbond_lr_bb                0.108020\n",
       "hbond_sc                   0.013254\n",
       "hbond_sr_bb               -0.223187\n",
       "lk_ball_wtd               -0.273033\n",
       "metalbinding_constraint         NaN\n",
       "omega                     -0.388344\n",
       "p_aa_pp                    0.343942\n",
       "pro_close                  0.035123\n",
       "rama_prepro                0.214053\n",
       "ref                       -0.333333\n",
       "res_type_constraint             NaN\n",
       "total_score                0.015242\n",
       "yhh_planarity              0.134529\n",
       "kds                        1.000000\n",
       "Name: kds, dtype: float64"
      ]
     },
     "execution_count": 86,
     "metadata": {},
     "output_type": "execute_result"
    }
   ],
   "source": [
    "# Try the Spearman correlation\n",
    "significant_structures.corr('spearman')['kds']"
   ]
  },
  {
   "cell_type": "markdown",
   "metadata": {},
   "source": [
    "This seems like it worked, though maybe a bit worse than the ```flexpepdock``` server. Here ```fa_atr``` is somewhat correlated. Maybe it is the score function? Maybe I need to add some constraints? Or is that happening by default?"
   ]
  },
  {
   "cell_type": "code",
   "execution_count": null,
   "metadata": {},
   "outputs": [],
   "source": []
  }
 ],
 "metadata": {
  "kernelspec": {
   "display_name": "Python [conda env:pyrosetta]",
   "language": "python",
   "name": "conda-env-pyrosetta-py"
  },
  "language_info": {
   "codemirror_mode": {
    "name": "ipython",
    "version": 3
   },
   "file_extension": ".py",
   "mimetype": "text/x-python",
   "name": "python",
   "nbconvert_exporter": "python",
   "pygments_lexer": "ipython3",
   "version": "3.7.4"
  }
 },
 "nbformat": 4,
 "nbformat_minor": 4
}
