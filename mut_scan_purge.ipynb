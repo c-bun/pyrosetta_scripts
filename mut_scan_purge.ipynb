{
 "cells": [
  {
   "cell_type": "code",
   "execution_count": 1,
   "metadata": {},
   "outputs": [
    {
     "name": "stderr",
     "output_type": "stream",
     "text": [
      "/home/colin/code/pyrosetta_tests/D090_Ala_scan.py:80: UserWarning: Import of 'rosetta' as a top-level module is deprecated and may be removed in 2018, import via 'pyrosetta.rosetta'.\n",
      "  from rosetta.protocols.scoring import Interface\n"
     ]
    },
    {
     "name": "stdout",
     "output_type": "stream",
     "text": [
      "PyRosetta-4 2020 [Rosetta PyRosetta4.conda.linux.CentOS.python37.Release 2020.10+release.46415fa3e9decb8b6e91a4e065c15543eb27a461 2020-03-05T09:09:24] retrieved from: http://www.pyrosetta.org\n",
      "(C) Copyright Rosetta Commons Member Institutions. Created in JHU by Sergey Lyskov and PyRosetta Team.\n",
      "\u001b[0mcore.init: {0} \u001b[0mChecking for fconfig files in pwd and ./rosetta/flags\n",
      "\u001b[0mcore.init: {0} \u001b[0mRosetta version: PyRosetta4.conda.linux.CentOS.python37.Release r248 2020.10+release.46415fa 46415fa3e9decb8b6e91a4e065c15543eb27a461 http://www.pyrosetta.org 2020-03-05T09:09:24\n",
      "\u001b[0mcore.init: {0} \u001b[0mcommand: PyRosetta -ex1 -ex2aro -database /home/colin/anaconda3/envs/pyrosetta/lib/python3.7/site-packages/pyrosetta/database\n",
      "\u001b[0mbasic.random.init_random_generator: {0} \u001b[0m'RNG device' seed mode, using '/dev/urandom', seed=-2046964640 seed_offset=0 real_seed=-2046964640 thread_index=0\n",
      "\u001b[0mbasic.random.init_random_generator: {0} \u001b[0mRandomGenerator:init: Normal mode, seed=-2046964640 RG_type=mt19937\n"
     ]
    }
   ],
   "source": [
    "from D090_Ala_scan import *\n",
    "#%run D090_Ala_scan.py\n",
    "init()"
   ]
  },
  {
   "cell_type": "code",
   "execution_count": 2,
   "metadata": {},
   "outputs": [],
   "source": [
    "# performs general scanning editing here to make parallel\n",
    "def scanning_parallel(pose_copy, partners, mutant_aa = 'A',\n",
    "        interface_cutoff = 8.0, output = False,\n",
    "        trials = 1, trial_output = ''):\n",
    "    \"\"\"\n",
    "    Performs \"scanning\" at an interface within  <pdb_filename>  between\n",
    "        <partners>  by mutating relevant residues to  <mutant_aa>  and repacking\n",
    "        residues within  <pack_radius>  Angstroms, further repacking all\n",
    "        residues within  <interface_cutoff>  of the interface residue, scoring\n",
    "        the complex and subtracting the score of a pose with the partners\n",
    "        separated by 500 Angstroms.\n",
    "        <trials>  scans are performed (to average results) with summaries written\n",
    "        to  <trial_output>_(trial#).txt.\n",
    "        Structures are exported to a PyMOL instance.\n",
    "\n",
    "    \"\"\"\n",
    "    # 1. set the pose\n",
    "    pose = pose_copy\n",
    "\n",
    "    # 2. setup the docking FoldTree and other related parameters\n",
    "    dock_jump = 1\n",
    "    movable_jumps = Vector1([dock_jump])\n",
    "#    protocols.docking.setup_foldtree(pose, partners, movable_jumps)\n",
    "# Commented out by colin because of error, found that API lists this method as below in PyRosetta4\n",
    "    pyrosetta.rosetta.protocols.docking.setup_foldtree(pose, partners, movable_jumps)\n",
    "\n",
    "    # 3. create ScoreFuncions for the Interface and \"ddG\" calculations\n",
    "    # the pose's Energies objects MUST be updated for the Interface object to\n",
    "    #    work normally\n",
    "    scorefxn = get_fa_scorefxn() #  create_score_function('standard')\n",
    "    scorefxn(pose)    # needed for proper Interface calculation\n",
    "\n",
    "    # setup a \"ddG\" ScoreFunction, custom weights\n",
    "    ddG_scorefxn = ScoreFunction()\n",
    "    ddG_scorefxn.set_weight(core.scoring.fa_atr, 0.44)\n",
    "    ddG_scorefxn.set_weight(core.scoring.fa_rep, 0.07)\n",
    "    ddG_scorefxn.set_weight(core.scoring.fa_sol, 1.0)\n",
    "    ddG_scorefxn.set_weight(core.scoring.hbond_bb_sc, 0.5)\n",
    "    ddG_scorefxn.set_weight(core.scoring.hbond_sc, 1.0)\n",
    "\n",
    "    # 4. create an Interface object for the pose\n",
    "    interface = Interface(dock_jump)\n",
    "    interface.distance(interface_cutoff)\n",
    "    interface.calculate(pose)\n",
    "\n",
    "    # 5. create a PyMOLMover for sending output to PyMOL (optional)\n",
    "#     pymover = PyMOLMover()\n",
    "#     pymover.keep_history(True)    # for multiple trajectories\n",
    "#     pymover.apply(pose)\n",
    "#     pymover.send_energy(pose)\n",
    "\n",
    "    # 6. perform scanning trials\n",
    "    # the large number of packing operations introduces a lot of variability,\n",
    "    #    for best results, perform several trials and average the results,\n",
    "    #    these score changes are useful to QUALITATIVELY defining \"hotspot\"\n",
    "    #    residues\n",
    "    # this script does not use a PyJobDistributor since no PDB files are output\n",
    "    \n",
    "    ddG_trials = []\n",
    "    \n",
    "    for trial in range( trials ):\n",
    "        # store the ddG values in a dictionary\n",
    "        ddG_mutants = {}\n",
    "        for i in range(1, pose.total_residue() + 1):\n",
    "            # for residues at the interface\n",
    "            if interface.is_interface(i) == True:\n",
    "                # this way you can TURN OFF output by providing False arguments\n",
    "                #    (such as '', the default)\n",
    "                filename = ''\n",
    "                if output:\n",
    "                    filename = pose.pdb_info().name()[:-4] + '_' +\\\n",
    "                        pose.sequence()[i-1] +\\\n",
    "                        str(pose.pdb_info().number(i)) + '->' + mutant_aa\n",
    "                # determine the interace score change upon mutation\n",
    "                key = pose.sequence()[i - 1] + str(pose.pdb_info().number(i)) + mutant_aa\n",
    "                ddG_mutants[key] = interface_ddG(pose, i, mutant_aa,\n",
    "                    movable_jumps, ddG_scorefxn, interface_cutoff, filename )\n",
    "                \n",
    "        ddG_trials.append(ddG_mutants)\n",
    "        \n",
    "    return ddG_trials\n",
    "\n",
    "#         # output results\n",
    "#         print( '='*80 )\n",
    "#         print( 'Trial', str( trial + 1 ) )\n",
    "#         print( 'Mutants (PDB numbered)\\t\\\"ddG\\\" (interaction dependent score change)' )\n",
    "#         residues = list( ddG_mutants.keys() )  # list(...) conversion is for python3 compatbility\n",
    "#         residues.sort()    # easier to read\n",
    "#         display = [pose.sequence()[i - 1] +\n",
    "#             str(pose.pdb_info().number(i)) + mutant_aa + '\\t' +\n",
    "#             str(ddG_mutants[i]) + '\\n'\n",
    "#             for i in residues]\n",
    "#         print( ''.join(display)[:-1] )\n",
    "#         print( '='*80 )\n",
    "\n",
    "#         # write to file\n",
    "#         f = open(trial_output + '_' + str(trial + 1) + '.txt' , 'w' )\n",
    "#         f.writelines(display)\n",
    "#         f.close()\n",
    "\n",
    "    #### alternate output using scanning_analysis (see below), only display\n",
    "    ####    mutations with \"deviant\" score changes\n",
    "    # commented out by colin\n",
    "#     print( 'Likely Hotspot Residues' )\n",
    "#     for hotspot in scanning_analysis(trial_output):\n",
    "#         print( hotspot )\n",
    "#     print( '='*80 )\n",
    "\n",
    "# \"\"\"\n",
    "# 1.  creates a copy of the pose\n",
    "# 2.  sets up a specific \"ddG\" ScoreFunction (if no ScoreFunction is provided)\n",
    "# 3.  creates a copy of the pose to mutate\n",
    "# 4.  mutates a single residue using mutate_residue\n",
    "# 5.  calculates the \"interaction energy\" ( or \"binding energy\")\n",
    "# 6.  outputs structures (optionally):\n",
    "#         -to PyMOL\n",
    "#         -to a PDB file\n",
    "# \"\"\""
   ]
  },
  {
   "cell_type": "code",
   "execution_count": null,
   "metadata": {},
   "outputs": [],
   "source": [
    "#test the method\n",
    "pdb_filename = \"./native_test.pdb\"\n",
    "original_pose = Pose()\n",
    "pose_from_file(original_pose, pdb_filename)"
   ]
  },
  {
   "cell_type": "markdown",
   "metadata": {},
   "source": [
    "Looks like Dask requires some pyrosetta.distributed packages. These appear to work best when things are submitted as rosettascripts. Will have to find some better sample rosettascripts later."
   ]
  },
  {
   "cell_type": "markdown",
   "metadata": {},
   "source": [
    "Try the pure python way:\n",
    "``` python\n",
    "from multiprocessing import Pool\n",
    "import itertools\n",
    "with pyrosetta.distributed.utility.log.LoggingContext(logging.getLogger(\"rosetta\"), level=logging.WARN):\n",
    "    with Pool() as p:\n",
    "        work = [\n",
    "            (input_pose, i, aa, \"mutation\")\n",
    "            for i, aa in itertools.product(range(1, len(packed_pose.to_pose(input_pose).residues) + 1), IUPACData.protein_letters)\n",
    "        ]\n",
    "        logging.info(\"mutating\")\n",
    "        mutations = p.starmap(mutate_residue, work)\n",
    "```"
   ]
  },
  {
   "cell_type": "code",
   "execution_count": null,
   "metadata": {},
   "outputs": [],
   "source": [
    "from multiprocessing import Pool"
   ]
  },
  {
   "cell_type": "code",
   "execution_count": null,
   "metadata": {},
   "outputs": [],
   "source": [
    "%%time\n",
    "all_aas = [\"A\", \"V\", \"I\", \"L\", \"L\", \"F\", \"Y\", \"W\", \"S\", \"T\", \"N\", \"Q\", \"G\", \"R\", \"H\", \"K\", \"D\", \"E\"]\n",
    "#all_aas = [\"A\", \"V\", 'I']\n",
    "with Pool() as p:\n",
    "    work = [(original_pose, \"A_B\", res, 8.0, False, 20) for res in all_aas]\n",
    "    result = p.starmap(scanning_parallel, work)"
   ]
  },
  {
   "cell_type": "markdown",
   "metadata": {},
   "source": [
    "Works!! Next is to parse the output into some nice data frames."
   ]
  },
  {
   "cell_type": "code",
   "execution_count": null,
   "metadata": {},
   "outputs": [],
   "source": [
    "import numpy as np\n",
    "import pandas as pd\n",
    "import seaborn"
   ]
  },
  {
   "cell_type": "code",
   "execution_count": null,
   "metadata": {},
   "outputs": [],
   "source": [
    "def parse_AA_result(result):\n",
    "    wt_all = []\n",
    "    mut_all = []\n",
    "    position_all = []\n",
    "    scores = []\n",
    "    for mut in result:\n",
    "        for trial in mut:\n",
    "            wt = [key[0] for key in trial.keys()]\n",
    "            mutation = [key[-1] for key in trial.keys()]\n",
    "            position = [int(key[1:-1]) for key in trial.keys()]\n",
    "            score = [val for val in trial.values()]\n",
    "            #print(\"{} {} {}\".format(wt,mutation,position))\n",
    "            wt_all += wt\n",
    "            mut_all += mutation\n",
    "            position_all += position\n",
    "            scores += score\n",
    "    df = pd.DataFrame()\n",
    "    df['WT'] = wt_all\n",
    "    df['Mutation'] = mut_all\n",
    "    df['Position'] = position_all\n",
    "    df['Score'] = scores\n",
    "    return df"
   ]
  },
  {
   "cell_type": "code",
   "execution_count": null,
   "metadata": {},
   "outputs": [],
   "source": [
    "df = parse_AA_result(result)\n",
    "df.head()\n",
    "print(df.shape)"
   ]
  },
  {
   "cell_type": "code",
   "execution_count": null,
   "metadata": {},
   "outputs": [],
   "source": [
    "import matplotlib\n",
    "matplotlib.pyplot.figure(figsize=(15,5))\n",
    "seaborn.violinplot(x='Position', y='Score', data=df)"
   ]
  },
  {
   "cell_type": "code",
   "execution_count": null,
   "metadata": {},
   "outputs": [],
   "source": [
    "df.to_csv(path_or_buf='all_AA_scan.csv')"
   ]
  },
  {
   "cell_type": "code",
   "execution_count": null,
   "metadata": {},
   "outputs": [],
   "source": [
    "df.to_pickle(path='all_AA_scan.pkl')"
   ]
  },
  {
   "cell_type": "code",
   "execution_count": null,
   "metadata": {},
   "outputs": [],
   "source": [
    "df_neg = df[df['Score']<5]\n",
    "df_neg.head()"
   ]
  },
  {
   "cell_type": "code",
   "execution_count": null,
   "metadata": {},
   "outputs": [],
   "source": [
    "matplotlib.pyplot.figure(figsize=(15,5))\n",
    "seaborn.violinplot(x='Position', y='Score', data=df_neg)"
   ]
  },
  {
   "cell_type": "code",
   "execution_count": null,
   "metadata": {},
   "outputs": [],
   "source": []
  }
 ],
 "metadata": {
  "kernelspec": {
   "display_name": "Python [conda env:pyrosetta]",
   "language": "python",
   "name": "conda-env-pyrosetta-py"
  },
  "language_info": {
   "codemirror_mode": {
    "name": "ipython",
    "version": 3
   },
   "file_extension": ".py",
   "mimetype": "text/x-python",
   "name": "python",
   "nbconvert_exporter": "python",
   "pygments_lexer": "ipython3",
   "version": "3.7.4"
  }
 },
 "nbformat": 4,
 "nbformat_minor": 4
}
