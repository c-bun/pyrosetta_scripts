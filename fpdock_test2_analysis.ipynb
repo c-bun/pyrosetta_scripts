{
 "cells": [
  {
   "cell_type": "markdown",
   "metadata": {},
   "source": [
    "Changed the ```init()``` call to remove all parameters and changed the score function to ```ref2015```. Take the output from ```nluc_fpdock_test1.ipynb``` and look to see if we get a correlation with KD as expected."
   ]
  },
  {
   "cell_type": "code",
   "execution_count": 2,
   "metadata": {},
   "outputs": [],
   "source": [
    "from os import listdir\n",
    "import pandas as pd\n",
    "import seaborn as sn\n",
    "import numpy as np\n",
    "import matplotlib.pyplot as plt"
   ]
  },
  {
   "cell_type": "code",
   "execution_count": 3,
   "metadata": {},
   "outputs": [
    {
     "name": "stdout",
     "output_type": "stream",
     "text": [
      "['native_test-20210320-104826_1.fasc', 'peptide128-20210320-104826_2.fasc', 'peptide128-20210320-104826_1.fasc', 'peptide99-20210320-104826_1.fasc', 'peptide101-20210320-104826_1.fasc', 'peptide114-20210320-104826_2.fasc', 'peptide78-20210320-104826_2.fasc', 'peptide114-20210320-104826_1.fasc', 'peptide79-20210320-104826_1.fasc', 'peptide101-20210320-104826_2.fasc', 'peptide86-20210320-104826_2.fasc', 'native_test-20210320-104826_2.fasc', 'peptide78-20210320-104826_1.fasc', 'peptide104-20210320-104826_1.fasc', 'peptide99-20210320-104826_2.fasc', 'peptide79-20210320-104826_2.fasc', 'peptide86-20210320-104826_1.fasc', 'peptide104-20210320-104826_2.fasc']\n"
     ]
    }
   ],
   "source": [
    "l = listdir(\"./decoys/\")\n",
    "fascs = []\n",
    "for f in l:\n",
    "    if \".fasc\" in f:\n",
    "        if \"20210320-104826\" in f:\n",
    "            fascs.append(f)\n",
    "\n",
    "print(fascs)"
   ]
  },
  {
   "cell_type": "code",
   "execution_count": 4,
   "metadata": {},
   "outputs": [
    {
     "data": {
      "text/plain": [
       "(900, 24)"
      ]
     },
     "execution_count": 4,
     "metadata": {},
     "output_type": "execute_result"
    }
   ],
   "source": [
    "data = pd.read_json(\"./decoys/\"+fascs[0], orient='records', lines=True)\n",
    "\n",
    "for f in fascs[1:]:\n",
    "    d = pd.read_json(\"./decoys/\"+f, orient='records', lines=True)\n",
    "    data = data.append(d)\n",
    "\n",
    "data.shape"
   ]
  },
  {
   "cell_type": "code",
   "execution_count": 6,
   "metadata": {},
   "outputs": [
    {
     "data": {
      "text/html": [
       "<div>\n",
       "<style scoped>\n",
       "    .dataframe tbody tr th:only-of-type {\n",
       "        vertical-align: middle;\n",
       "    }\n",
       "\n",
       "    .dataframe tbody tr th {\n",
       "        vertical-align: top;\n",
       "    }\n",
       "\n",
       "    .dataframe thead th {\n",
       "        text-align: right;\n",
       "    }\n",
       "</style>\n",
       "<table border=\"1\" class=\"dataframe\">\n",
       "  <thead>\n",
       "    <tr style=\"text-align: right;\">\n",
       "      <th></th>\n",
       "      <th>pdb_name</th>\n",
       "      <th>decoy</th>\n",
       "      <th>filename</th>\n",
       "      <th>nstruct</th>\n",
       "      <th>dslf_fa13</th>\n",
       "      <th>fa_atr</th>\n",
       "      <th>fa_dun</th>\n",
       "      <th>fa_elec</th>\n",
       "      <th>fa_intra_rep</th>\n",
       "      <th>fa_intra_sol_xover4</th>\n",
       "      <th>...</th>\n",
       "      <th>hbond_sr_bb</th>\n",
       "      <th>lk_ball_wtd</th>\n",
       "      <th>omega</th>\n",
       "      <th>p_aa_pp</th>\n",
       "      <th>pro_close</th>\n",
       "      <th>rama_prepro</th>\n",
       "      <th>ref</th>\n",
       "      <th>total_score</th>\n",
       "      <th>yhh_planarity</th>\n",
       "      <th>peptide</th>\n",
       "    </tr>\n",
       "  </thead>\n",
       "  <tbody>\n",
       "    <tr>\n",
       "      <td>0</td>\n",
       "      <td>./decoys/native_test-20210320-104826_1</td>\n",
       "      <td>./decoys/native_test-20210320-104826_1_21.pdb</td>\n",
       "      <td>./decoys/native_test-20210320-104826_1_21.pdb</td>\n",
       "      <td>50</td>\n",
       "      <td>0</td>\n",
       "      <td>-947.361216</td>\n",
       "      <td>345.12464</td>\n",
       "      <td>-270.503209</td>\n",
       "      <td>2.160265</td>\n",
       "      <td>34.026548</td>\n",
       "      <td>...</td>\n",
       "      <td>-32.474634</td>\n",
       "      <td>-15.321732</td>\n",
       "      <td>38.194233</td>\n",
       "      <td>-35.100318</td>\n",
       "      <td>18.324089</td>\n",
       "      <td>6.872419</td>\n",
       "      <td>86.77707</td>\n",
       "      <td>603.212908</td>\n",
       "      <td>0</td>\n",
       "      <td>native_test</td>\n",
       "    </tr>\n",
       "    <tr>\n",
       "      <td>1</td>\n",
       "      <td>./decoys/native_test-20210320-104826_1</td>\n",
       "      <td>./decoys/native_test-20210320-104826_1_8.pdb</td>\n",
       "      <td>./decoys/native_test-20210320-104826_1_8.pdb</td>\n",
       "      <td>50</td>\n",
       "      <td>0</td>\n",
       "      <td>-947.361216</td>\n",
       "      <td>345.12464</td>\n",
       "      <td>-270.503209</td>\n",
       "      <td>2.160265</td>\n",
       "      <td>34.026548</td>\n",
       "      <td>...</td>\n",
       "      <td>-32.474634</td>\n",
       "      <td>-15.321732</td>\n",
       "      <td>38.194233</td>\n",
       "      <td>-35.100318</td>\n",
       "      <td>18.324089</td>\n",
       "      <td>6.872419</td>\n",
       "      <td>86.77707</td>\n",
       "      <td>603.212908</td>\n",
       "      <td>0</td>\n",
       "      <td>native_test</td>\n",
       "    </tr>\n",
       "    <tr>\n",
       "      <td>2</td>\n",
       "      <td>./decoys/native_test-20210320-104826_1</td>\n",
       "      <td>./decoys/native_test-20210320-104826_1_1.pdb</td>\n",
       "      <td>./decoys/native_test-20210320-104826_1_1.pdb</td>\n",
       "      <td>50</td>\n",
       "      <td>0</td>\n",
       "      <td>-947.361216</td>\n",
       "      <td>345.12464</td>\n",
       "      <td>-270.503209</td>\n",
       "      <td>2.160265</td>\n",
       "      <td>34.026548</td>\n",
       "      <td>...</td>\n",
       "      <td>-32.474634</td>\n",
       "      <td>-15.321732</td>\n",
       "      <td>38.194233</td>\n",
       "      <td>-35.100318</td>\n",
       "      <td>18.324089</td>\n",
       "      <td>6.872419</td>\n",
       "      <td>86.77707</td>\n",
       "      <td>603.212908</td>\n",
       "      <td>0</td>\n",
       "      <td>native_test</td>\n",
       "    </tr>\n",
       "    <tr>\n",
       "      <td>3</td>\n",
       "      <td>./decoys/native_test-20210320-104826_1</td>\n",
       "      <td>./decoys/native_test-20210320-104826_1_36.pdb</td>\n",
       "      <td>./decoys/native_test-20210320-104826_1_36.pdb</td>\n",
       "      <td>50</td>\n",
       "      <td>0</td>\n",
       "      <td>-947.361216</td>\n",
       "      <td>345.12464</td>\n",
       "      <td>-270.503209</td>\n",
       "      <td>2.160265</td>\n",
       "      <td>34.026548</td>\n",
       "      <td>...</td>\n",
       "      <td>-32.474634</td>\n",
       "      <td>-15.321732</td>\n",
       "      <td>38.194233</td>\n",
       "      <td>-35.100318</td>\n",
       "      <td>18.324089</td>\n",
       "      <td>6.872419</td>\n",
       "      <td>86.77707</td>\n",
       "      <td>603.212908</td>\n",
       "      <td>0</td>\n",
       "      <td>native_test</td>\n",
       "    </tr>\n",
       "    <tr>\n",
       "      <td>4</td>\n",
       "      <td>./decoys/native_test-20210320-104826_1</td>\n",
       "      <td>./decoys/native_test-20210320-104826_1_0.pdb</td>\n",
       "      <td>./decoys/native_test-20210320-104826_1_0.pdb</td>\n",
       "      <td>50</td>\n",
       "      <td>0</td>\n",
       "      <td>-947.361216</td>\n",
       "      <td>345.12464</td>\n",
       "      <td>-270.503209</td>\n",
       "      <td>2.160265</td>\n",
       "      <td>34.026548</td>\n",
       "      <td>...</td>\n",
       "      <td>-32.474634</td>\n",
       "      <td>-15.321732</td>\n",
       "      <td>38.194233</td>\n",
       "      <td>-35.100318</td>\n",
       "      <td>18.324089</td>\n",
       "      <td>6.872419</td>\n",
       "      <td>86.77707</td>\n",
       "      <td>603.212908</td>\n",
       "      <td>0</td>\n",
       "      <td>native_test</td>\n",
       "    </tr>\n",
       "  </tbody>\n",
       "</table>\n",
       "<p>5 rows × 25 columns</p>\n",
       "</div>"
      ],
      "text/plain": [
       "                                 pdb_name  \\\n",
       "0  ./decoys/native_test-20210320-104826_1   \n",
       "1  ./decoys/native_test-20210320-104826_1   \n",
       "2  ./decoys/native_test-20210320-104826_1   \n",
       "3  ./decoys/native_test-20210320-104826_1   \n",
       "4  ./decoys/native_test-20210320-104826_1   \n",
       "\n",
       "                                           decoy  \\\n",
       "0  ./decoys/native_test-20210320-104826_1_21.pdb   \n",
       "1   ./decoys/native_test-20210320-104826_1_8.pdb   \n",
       "2   ./decoys/native_test-20210320-104826_1_1.pdb   \n",
       "3  ./decoys/native_test-20210320-104826_1_36.pdb   \n",
       "4   ./decoys/native_test-20210320-104826_1_0.pdb   \n",
       "\n",
       "                                        filename  nstruct  dslf_fa13  \\\n",
       "0  ./decoys/native_test-20210320-104826_1_21.pdb       50          0   \n",
       "1   ./decoys/native_test-20210320-104826_1_8.pdb       50          0   \n",
       "2   ./decoys/native_test-20210320-104826_1_1.pdb       50          0   \n",
       "3  ./decoys/native_test-20210320-104826_1_36.pdb       50          0   \n",
       "4   ./decoys/native_test-20210320-104826_1_0.pdb       50          0   \n",
       "\n",
       "       fa_atr     fa_dun     fa_elec  fa_intra_rep  fa_intra_sol_xover4  ...  \\\n",
       "0 -947.361216  345.12464 -270.503209      2.160265            34.026548  ...   \n",
       "1 -947.361216  345.12464 -270.503209      2.160265            34.026548  ...   \n",
       "2 -947.361216  345.12464 -270.503209      2.160265            34.026548  ...   \n",
       "3 -947.361216  345.12464 -270.503209      2.160265            34.026548  ...   \n",
       "4 -947.361216  345.12464 -270.503209      2.160265            34.026548  ...   \n",
       "\n",
       "   hbond_sr_bb  lk_ball_wtd      omega    p_aa_pp  pro_close  rama_prepro  \\\n",
       "0   -32.474634   -15.321732  38.194233 -35.100318  18.324089     6.872419   \n",
       "1   -32.474634   -15.321732  38.194233 -35.100318  18.324089     6.872419   \n",
       "2   -32.474634   -15.321732  38.194233 -35.100318  18.324089     6.872419   \n",
       "3   -32.474634   -15.321732  38.194233 -35.100318  18.324089     6.872419   \n",
       "4   -32.474634   -15.321732  38.194233 -35.100318  18.324089     6.872419   \n",
       "\n",
       "        ref  total_score  yhh_planarity      peptide  \n",
       "0  86.77707   603.212908              0  native_test  \n",
       "1  86.77707   603.212908              0  native_test  \n",
       "2  86.77707   603.212908              0  native_test  \n",
       "3  86.77707   603.212908              0  native_test  \n",
       "4  86.77707   603.212908              0  native_test  \n",
       "\n",
       "[5 rows x 25 columns]"
      ]
     },
     "execution_count": 6,
     "metadata": {},
     "output_type": "execute_result"
    }
   ],
   "source": [
    "peptide_names = []\n",
    "for i, r in data.iterrows():\n",
    "    s = r['filename'].split('-')\n",
    "    s = s[0].split('/')\n",
    "    name = s[2]\n",
    "    peptide_names.append(name)\n",
    "    \n",
    "data['peptide'] = peptide_names\n",
    "data.head()"
   ]
  },
  {
   "cell_type": "code",
   "execution_count": 10,
   "metadata": {},
   "outputs": [
    {
     "name": "stdout",
     "output_type": "stream",
     "text": [
      "peptide104: 24.24308077052019 plus minus 7.105427357601002e-15\n",
      "peptide78: 898.3101391074067 plus minus 1.5916157281026244e-12\n",
      "peptide86: 19.113066273604378 plus minus 4.618527782440651e-14\n",
      "peptide114: 117.57973454014596 plus minus 1.7053025658242404e-13\n",
      "peptide79: 885.6935566061583 plus minus 2.2737367544323206e-13\n",
      "peptide101: 27.549881690478284 plus minus 1.7763568394002505e-14\n",
      "peptide128: 22.956458937086104 plus minus 6.394884621840902e-14\n",
      "native_test: 603.2129075366543 plus minus 1.3642420526593924e-12\n",
      "peptide99: 96.45737729247762 plus minus 9.947598300641403e-14\n"
     ]
    },
    {
     "name": "stderr",
     "output_type": "stream",
     "text": [
      "/home/colin/anaconda3/envs/pyrosetta/lib/python3.7/site-packages/ipykernel_launcher.py:17: SettingWithCopyWarning: \n",
      "A value is trying to be set on a copy of a slice from a DataFrame.\n",
      "Try using .loc[row_indexer,col_indexer] = value instead\n",
      "\n",
      "See the caveats in the documentation: http://pandas.pydata.org/pandas-docs/stable/user_guide/indexing.html#returning-a-view-versus-a-copy\n"
     ]
    }
   ],
   "source": [
    "kds = {'peptide86':0.7E-9,\n",
    "       'peptide78':3.4E-9,\n",
    "       'peptide79':8.5E-9,\n",
    "       'peptide99':1.8E-7,\n",
    "       'peptide128':2.8E-7,\n",
    "       'native_test':0.9E-6,\n",
    "       'peptide104':1.3E-6,\n",
    "       'peptide101':2.5E-6,\n",
    "       'peptide114':1.9E-4\n",
    "       }\n",
    "\n",
    "peptides = set(data['peptide'])\n",
    "dfs = []\n",
    "\n",
    "for peptide in peptides:\n",
    "    subdata = data[data['peptide']==peptide]\n",
    "    subdata['kds'] = kds[peptide]\n",
    "    \n",
    "    stdev_total_score = np.std(subdata['total_score'])\n",
    "    mean_total_score = np.mean(subdata['total_score'])\n",
    "    print(\"{}: {} plus minus {}\".format(peptide, mean_total_score, stdev_total_score))\n",
    "\n",
    "    threshold_total_score = mean_total_score - stdev_total_score\n",
    "\n",
    "    #dfs.append(subdata[subdata['total_score']<threshold_total_score])\n",
    "    dfs.append(subdata.sort_values('total_score')[:10])"
   ]
  },
  {
   "cell_type": "code",
   "execution_count": 11,
   "metadata": {},
   "outputs": [
    {
     "data": {
      "text/plain": [
       "(90, 26)"
      ]
     },
     "execution_count": 11,
     "metadata": {},
     "output_type": "execute_result"
    }
   ],
   "source": [
    "significant_structures = pd.concat(dfs)\n",
    "significant_structures.shape"
   ]
  },
  {
   "cell_type": "code",
   "execution_count": 12,
   "metadata": {},
   "outputs": [
    {
     "data": {
      "text/plain": [
       "<matplotlib.axes._subplots.AxesSubplot at 0x7f91ef358e50>"
      ]
     },
     "execution_count": 12,
     "metadata": {},
     "output_type": "execute_result"
    },
    {
     "data": {
      "image/png": "[encoded data removed]",
      "text/plain": [
       "<Figure size 432x288 with 1 Axes>"
      ]
     },
     "metadata": {
      "needs_background": "light"
     },
     "output_type": "display_data"
    }
   ],
   "source": [
    "significant_structures.plot('kds', 'total_score', kind='scatter', logx=True)"
   ]
  },
  {
   "cell_type": "code",
   "execution_count": 13,
   "metadata": {},
   "outputs": [
    {
     "data": {
      "text/plain": [
       "<matplotlib.axes._subplots.AxesSubplot at 0x7f91ef29d210>"
      ]
     },
     "execution_count": 13,
     "metadata": {},
     "output_type": "execute_result"
    },
    {
     "data": {
      "image/png": "[encoded data removed]",
      "text/plain": [
       "<Figure size 432x288 with 1 Axes>"
      ]
     },
     "metadata": {
      "needs_background": "light"
     },
     "output_type": "display_data"
    }
   ],
   "source": [
    "significant_structures.plot('kds', 'fa_atr', kind='scatter', logx=True)"
   ]
  },
  {
   "cell_type": "code",
   "execution_count": 14,
   "metadata": {},
   "outputs": [
    {
     "data": {
      "text/plain": [
       "nstruct                     NaN\n",
       "dslf_fa13                   NaN\n",
       "fa_atr                 0.383333\n",
       "fa_dun                 0.000000\n",
       "fa_elec                0.316667\n",
       "fa_intra_rep          -0.066667\n",
       "fa_intra_sol_xover4   -0.416667\n",
       "fa_rep                -0.133333\n",
       "fa_sol                -0.166667\n",
       "hbond_bb_sc           -0.638291\n",
       "hbond_lr_bb            0.008368\n",
       "hbond_sc                    NaN\n",
       "hbond_sr_bb                 NaN\n",
       "lk_ball_wtd            0.150000\n",
       "omega                 -0.300000\n",
       "p_aa_pp                0.333333\n",
       "pro_close                   NaN\n",
       "rama_prepro            0.200000\n",
       "ref                   -0.333333\n",
       "total_score           -0.050000\n",
       "yhh_planarity               NaN\n",
       "kds                    1.000000\n",
       "Name: kds, dtype: float64"
      ]
     },
     "execution_count": 14,
     "metadata": {},
     "output_type": "execute_result"
    }
   ],
   "source": [
    "# Try the Spearman correlation\n",
    "significant_structures.corr('spearman')['kds']"
   ]
  },
  {
   "cell_type": "markdown",
   "metadata": {},
   "source": [
    "Hmm. Maybe need to look back at those ```init()``` parameters. It looks like this ran A LOT faster, but lost a lot of predictive performance. And now, ```total_score``` has a huge amount of variance. What were the init parameter for the alanine scan code?"
   ]
  },
  {
   "cell_type": "code",
   "execution_count": null,
   "metadata": {},
   "outputs": [],
   "source": []
  }
 ],
 "metadata": {
  "kernelspec": {
   "display_name": "Python [conda env:pyrosetta]",
   "language": "python",
   "name": "conda-env-pyrosetta-py"
  },
  "language_info": {
   "codemirror_mode": {
    "name": "ipython",
    "version": 3
   },
   "file_extension": ".py",
   "mimetype": "text/x-python",
   "name": "python",
   "nbconvert_exporter": "python",
   "pygments_lexer": "ipython3",
   "version": "3.7.4"
  }
 },
 "nbformat": 4,
 "nbformat_minor": 4
}
